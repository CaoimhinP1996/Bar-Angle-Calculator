{
 "cells": [
  {
   "cell_type": "code",
   "execution_count": 3,
   "id": "aaf5a300",
   "metadata": {},
   "outputs": [],
   "source": [
    "import astropy.units as u\n",
    "from astropy.coordinates import SkyCoord\n",
    "from astroquery.gaia import Gaia\n",
    "import pandas as pd\n",
    "import numpy as np\n",
    "import pytz\n",
    "import os\n",
    "from pathlib import Path"
   ]
  },
  {
   "cell_type": "code",
   "execution_count": null,
   "id": "e5be1e12",
   "metadata": {},
   "outputs": [],
   "source": [
    "b = np.arange(-3,-2,0.5)\n",
    "def downloadgaiadata_neg_(l=0.2, b=-3.0):\n",
    "    query = f\"\"\"\n",
    "    SELECT *, DISTANCE({l}, {b}, l, b) AS ang_sep\n",
    "    FROM gaiadr3.gaia_source\n",
    "    WHERE DISTANCE({l}, {b}, l, b) < 10./60.\n",
    "    AND ruwe < 1.4\n",
    "    AND phot_g_mean_mag < 21\n",
    "    AND parallax IS NOT NULL\n",
    "    AND parallax_error IS NOT NULL\n",
    "    AND bp_rp IS NOT NULL\n",
    "    AND phot_g_mean_mag IS NOT NULL\n",
    "    ORDER BY ang_sep ASC\n",
    "    \"\"\"\n",
    "    job = Gaia.launch_job_async(query)\n",
    "    results = job.get_results()\n",
    "    df = results.to_pandas()\n",
    "    df.to_csv(path / f'l_{l-360:0.2f}_b_{b:0.2f}.csv')\n",
    "\n",
    "def downloadgaiadata_pos_(l=0.2, b=-3.0):\n",
    "    query = f\"\"\"\n",
    "    SELECT *, DISTANCE({l}, {b}, l, b) AS ang_sep\n",
    "    FROM gaiadr3.gaia_source\n",
    "    WHERE DISTANCE({l}, {b}, l, b) < 10./60.\n",
    "    AND ruwe < 1.4\n",
    "    AND phot_g_mean_mag < 19\n",
    "    AND parallax IS NOT NULL\n",
    "    AND parallax_error IS NOT NULL\n",
    "    AND bp_rp IS NOT NULL\n",
    "    AND phot_g_mean_mag IS NOT NULL\n",
    "    ORDER BY ang_sep ASC\n",
    "    \"\"\"\n",
    "    job = Gaia.launch_job_async(query)\n",
    "    results = job.get_results()\n",
    "    df = results.to_pandas()\n",
    "    df.to_csv(path / f'l_{l:0.2f}_b_{b:0.2f}.csv')\n",
    "\n",
    "downloadgaiadata_neg = np.vectorize(downloadgaiadata_neg_)\n",
    "downloadgaiadata_pos = np.vectorize(downloadgaiadata_pos_)"
   ]
  },
  {
   "cell_type": "code",
   "execution_count": null,
   "id": "6d4a0fd4",
   "metadata": {},
   "outputs": [],
   "source": [
    "Al = np.arange(-15,16,1)\n",
    "print(Al)\n",
    "Al = [l if l>-1 else 360+l for l in Al]\n",
    "\n",
    "for i in b:\n",
    "    dir_name = f'Gaia_Data/b_{i:0.2f}'\n",
    "    os.makedirs(dir_name, exist_ok=True)\n",
    "    path = Path(dir_name)\n",
    "    downloadgaiadata_neg(l=Al[0:15], b=i)\n",
    "    downloadgaiadata_pos(l=Al[15:31], b=i)"
   ]
  },
  {
   "cell_type": "code",
   "execution_count": null,
   "id": "e3469875",
   "metadata": {},
   "outputs": [],
   "source": []
  }
 ],
 "metadata": {
  "kernelspec": {
   "display_name": "base",
   "language": "python",
   "name": "python3"
  },
  "language_info": {
   "codemirror_mode": {
    "name": "ipython",
    "version": 3
   },
   "file_extension": ".py",
   "mimetype": "text/x-python",
   "name": "python",
   "nbconvert_exporter": "python",
   "pygments_lexer": "ipython3",
   "version": "3.12.3"
  }
 },
 "nbformat": 4,
 "nbformat_minor": 5
}
